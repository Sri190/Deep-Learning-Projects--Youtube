{
 "cells": [
  {
   "cell_type": "code",
   "execution_count": 38,
   "id": "6d8b3212-40af-41f1-832a-7560529b8153",
   "metadata": {},
   "outputs": [
    {
     "name": "stdout",
     "output_type": "stream",
     "text": [
      "Epoch 1/10\n",
      "\u001b[1m6/6\u001b[0m \u001b[32m━━━━━━━━━━━━━━━━━━━━\u001b[0m\u001b[37m\u001b[0m \u001b[1m2s\u001b[0m 70ms/step - accuracy: 0.4762 - loss: 1.0158 - val_accuracy: 0.3684 - val_loss: 1.0804\n",
      "Epoch 2/10\n",
      "\u001b[1m6/6\u001b[0m \u001b[32m━━━━━━━━━━━━━━━━━━━━\u001b[0m\u001b[37m\u001b[0m \u001b[1m0s\u001b[0m 27ms/step - accuracy: 0.4821 - loss: 0.8672 - val_accuracy: 0.4211 - val_loss: 0.9537\n",
      "Epoch 3/10\n",
      "\u001b[1m6/6\u001b[0m \u001b[32m━━━━━━━━━━━━━━━━━━━━\u001b[0m\u001b[37m\u001b[0m \u001b[1m0s\u001b[0m 24ms/step - accuracy: 0.4881 - loss: 0.7632 - val_accuracy: 0.3684 - val_loss: 0.8569\n",
      "Epoch 4/10\n",
      "\u001b[1m6/6\u001b[0m \u001b[32m━━━━━━━━━━━━━━━━━━━━\u001b[0m\u001b[37m\u001b[0m \u001b[1m0s\u001b[0m 22ms/step - accuracy: 0.5298 - loss: 0.6882 - val_accuracy: 0.3684 - val_loss: 0.7851\n",
      "Epoch 5/10\n",
      "\u001b[1m6/6\u001b[0m \u001b[32m━━━━━━━━━━━━━━━━━━━━\u001b[0m\u001b[37m\u001b[0m \u001b[1m0s\u001b[0m 22ms/step - accuracy: 0.6190 - loss: 0.6302 - val_accuracy: 0.4737 - val_loss: 0.7320\n",
      "Epoch 6/10\n",
      "\u001b[1m6/6\u001b[0m \u001b[32m━━━━━━━━━━━━━━━━━━━━\u001b[0m\u001b[37m\u001b[0m \u001b[1m0s\u001b[0m 22ms/step - accuracy: 0.7024 - loss: 0.5847 - val_accuracy: 0.4737 - val_loss: 0.6909\n",
      "Epoch 7/10\n",
      "\u001b[1m6/6\u001b[0m \u001b[32m━━━━━━━━━━━━━━━━━━━━\u001b[0m\u001b[37m\u001b[0m \u001b[1m0s\u001b[0m 30ms/step - accuracy: 0.7381 - loss: 0.5452 - val_accuracy: 0.5263 - val_loss: 0.6596\n",
      "Epoch 8/10\n",
      "\u001b[1m6/6\u001b[0m \u001b[32m━━━━━━━━━━━━━━━━━━━━\u001b[0m\u001b[37m\u001b[0m \u001b[1m0s\u001b[0m 21ms/step - accuracy: 0.8095 - loss: 0.5114 - val_accuracy: 0.5263 - val_loss: 0.6360\n",
      "Epoch 9/10\n",
      "\u001b[1m6/6\u001b[0m \u001b[32m━━━━━━━━━━━━━━━━━━━━\u001b[0m\u001b[37m\u001b[0m \u001b[1m0s\u001b[0m 22ms/step - accuracy: 0.8214 - loss: 0.4822 - val_accuracy: 0.5789 - val_loss: 0.6187\n",
      "Epoch 10/10\n",
      "\u001b[1m6/6\u001b[0m \u001b[32m━━━━━━━━━━━━━━━━━━━━\u001b[0m\u001b[37m\u001b[0m \u001b[1m0s\u001b[0m 22ms/step - accuracy: 0.8214 - loss: 0.4560 - val_accuracy: 0.5789 - val_loss: 0.6050\n",
      "\u001b[1m1/1\u001b[0m \u001b[32m━━━━━━━━━━━━━━━━━━━━\u001b[0m\u001b[37m\u001b[0m \u001b[1m0s\u001b[0m 67ms/step - accuracy: 0.8571 - loss: 0.5107\n",
      "Test Loss:0.5107\n",
      "Test Accuracy:0.8571\n"
     ]
    }
   ],
   "source": [
    "#Import All Libraries\n",
    "import pandas as pd\n",
    "import numpy as np\n",
    "import scipy.stats as stats\n",
    "import tensorflow as tf\n",
    "tf.random.set_seed(3)\n",
    "from tensorflow import keras\n",
    "from sklearn.preprocessing import StandardScaler\n",
    "from sklearn.model_selection import train_test_split\n",
    "\n",
    "#Import The DATASET\n",
    "df=pd.read_csv(\"Copy of sonar data.csv\",header=None)\n",
    "\n",
    "#Data Cleaning\n",
    "df[60]=df[60].map({\"M\":1,\"R\":0})\n",
    "\n",
    "#Data Preprocessing\n",
    "scalar=StandardScaler()\n",
    "X=df.drop(columns=60,axis=1)\n",
    "y=df[60]\n",
    "x=pd.DataFrame(scalar.fit_transform(X),columns=X.columns)\n",
    "\n",
    "#Train Test Split\n",
    "x_train,x_test,y_train,y_test=train_test_split(x,y,test_size=0.1,random_state=42)\n",
    "\n",
    "# Model Training\n",
    "model = keras.Sequential([\n",
    "    keras.layers.Input(shape=(60,)),   \n",
    "    keras.layers.Dense(32, activation='relu'),\n",
    "    keras.layers.Dense(16, activation='relu'),\n",
    "    keras.layers.Dense(1, activation='sigmoid')\n",
    "])\n",
    "model.compile(optimizer='adam',loss='binary_crossentropy',metrics=['accuracy'])\n",
    "history=model.fit(x_train,y_train,validation_split=0.1,epochs=10,batch_size=32)\n",
    "\n",
    "#Model Accuracy And Loss\n",
    "loss,accuracy=model.evaluate(x_test,y_test)\n",
    "print(f\"Test Loss:{loss:.4f}\")\n",
    "print(f\"Test Accuracy:{accuracy:.4f}\")"
   ]
  },
  {
   "cell_type": "code",
   "execution_count": null,
   "id": "d6274478-5202-4687-8594-10c1d27e2b23",
   "metadata": {},
   "outputs": [],
   "source": []
  }
 ],
 "metadata": {
  "kernelspec": {
   "display_name": "Python [conda env:base] *",
   "language": "python",
   "name": "conda-base-py"
  },
  "language_info": {
   "codemirror_mode": {
    "name": "ipython",
    "version": 3
   },
   "file_extension": ".py",
   "mimetype": "text/x-python",
   "name": "python",
   "nbconvert_exporter": "python",
   "pygments_lexer": "ipython3",
   "version": "3.12.7"
  }
 },
 "nbformat": 4,
 "nbformat_minor": 5
}
