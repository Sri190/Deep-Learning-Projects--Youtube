{
 "cells": [
  {
   "cell_type": "code",
   "execution_count": 29,
   "id": "d950daed-f329-425a-b794-d86716f32377",
   "metadata": {},
   "outputs": [
    {
     "name": "stdout",
     "output_type": "stream",
     "text": [
      "Epoch 1/200\n",
      "\u001b[1m14/14\u001b[0m \u001b[32m━━━━━━━━━━━━━━━━━━━━\u001b[0m\u001b[37m\u001b[0m \u001b[1m2s\u001b[0m 32ms/step - accuracy: 0.8729 - loss: 0.3027 - val_accuracy: 0.8378 - val_loss: 0.4679 - learning_rate: 0.0010\n",
      "Epoch 2/200\n",
      "\u001b[1m14/14\u001b[0m \u001b[32m━━━━━━━━━━━━━━━━━━━━\u001b[0m\u001b[37m\u001b[0m \u001b[1m0s\u001b[0m 10ms/step - accuracy: 0.8801 - loss: 0.2917 - val_accuracy: 0.8378 - val_loss: 0.4633 - learning_rate: 0.0010\n",
      "Epoch 3/200\n",
      "\u001b[1m14/14\u001b[0m \u001b[32m━━━━━━━━━━━━━━━━━━━━\u001b[0m\u001b[37m\u001b[0m \u001b[1m0s\u001b[0m 11ms/step - accuracy: 0.8729 - loss: 0.2889 - val_accuracy: 0.8243 - val_loss: 0.4624 - learning_rate: 0.0010\n",
      "Epoch 4/200\n",
      "\u001b[1m14/14\u001b[0m \u001b[32m━━━━━━━━━━━━━━━━━━━━\u001b[0m\u001b[37m\u001b[0m \u001b[1m0s\u001b[0m 13ms/step - accuracy: 0.8777 - loss: 0.2833 - val_accuracy: 0.8108 - val_loss: 0.4681 - learning_rate: 0.0010\n",
      "Epoch 5/200\n",
      "\u001b[1m14/14\u001b[0m \u001b[32m━━━━━━━━━━━━━━━━━━━━\u001b[0m\u001b[37m\u001b[0m \u001b[1m0s\u001b[0m 15ms/step - accuracy: 0.8753 - loss: 0.2818 - val_accuracy: 0.8108 - val_loss: 0.4700 - learning_rate: 0.0010\n",
      "Epoch 6/200\n",
      "\u001b[1m14/14\u001b[0m \u001b[32m━━━━━━━━━━━━━━━━━━━━\u001b[0m\u001b[37m\u001b[0m \u001b[1m0s\u001b[0m 14ms/step - accuracy: 0.8801 - loss: 0.2795 - val_accuracy: 0.8108 - val_loss: 0.4747 - learning_rate: 0.0010\n",
      "Epoch 7/200\n",
      "\u001b[1m14/14\u001b[0m \u001b[32m━━━━━━━━━━━━━━━━━━━━\u001b[0m\u001b[37m\u001b[0m \u001b[1m0s\u001b[0m 12ms/step - accuracy: 0.8849 - loss: 0.2794 - val_accuracy: 0.8108 - val_loss: 0.4787 - learning_rate: 0.0010\n",
      "Epoch 8/200\n",
      "\u001b[1m14/14\u001b[0m \u001b[32m━━━━━━━━━━━━━━━━━━━━\u001b[0m\u001b[37m\u001b[0m \u001b[1m0s\u001b[0m 12ms/step - accuracy: 0.8873 - loss: 0.2755 - val_accuracy: 0.7973 - val_loss: 0.4839 - learning_rate: 0.0010\n",
      "Epoch 9/200\n",
      "\u001b[1m14/14\u001b[0m \u001b[32m━━━━━━━━━━━━━━━━━━━━\u001b[0m\u001b[37m\u001b[0m \u001b[1m0s\u001b[0m 20ms/step - accuracy: 0.8825 - loss: 0.2739 - val_accuracy: 0.8108 - val_loss: 0.4794 - learning_rate: 0.0010\n",
      "Epoch 10/200\n",
      "\u001b[1m14/14\u001b[0m \u001b[32m━━━━━━━━━━━━━━━━━━━━\u001b[0m\u001b[37m\u001b[0m \u001b[1m0s\u001b[0m 11ms/step - accuracy: 0.8657 - loss: 0.2783 - val_accuracy: 0.8108 - val_loss: 0.4819 - learning_rate: 0.0010\n",
      "Epoch 11/200\n",
      "\u001b[1m14/14\u001b[0m \u001b[32m━━━━━━━━━━━━━━━━━━━━\u001b[0m\u001b[37m\u001b[0m \u001b[1m0s\u001b[0m 12ms/step - accuracy: 0.8705 - loss: 0.2784 - val_accuracy: 0.7973 - val_loss: 0.4874 - learning_rate: 0.0010\n",
      "Epoch 12/200\n",
      "\u001b[1m14/14\u001b[0m \u001b[32m━━━━━━━━━━━━━━━━━━━━\u001b[0m\u001b[37m\u001b[0m \u001b[1m0s\u001b[0m 13ms/step - accuracy: 0.8681 - loss: 0.2760 - val_accuracy: 0.8108 - val_loss: 0.4950 - learning_rate: 5.0000e-04\n",
      "Epoch 13/200\n",
      "\u001b[1m14/14\u001b[0m \u001b[32m━━━━━━━━━━━━━━━━━━━━\u001b[0m\u001b[37m\u001b[0m \u001b[1m0s\u001b[0m 15ms/step - accuracy: 0.8753 - loss: 0.2748 - val_accuracy: 0.7973 - val_loss: 0.4871 - learning_rate: 5.0000e-04\n",
      "Epoch 14/200\n",
      "\u001b[1m14/14\u001b[0m \u001b[32m━━━━━━━━━━━━━━━━━━━━\u001b[0m\u001b[37m\u001b[0m \u001b[1m0s\u001b[0m 12ms/step - accuracy: 0.8777 - loss: 0.2704 - val_accuracy: 0.7973 - val_loss: 0.4848 - learning_rate: 5.0000e-04\n",
      "Epoch 15/200\n",
      "\u001b[1m14/14\u001b[0m \u001b[32m━━━━━━━━━━━━━━━━━━━━\u001b[0m\u001b[37m\u001b[0m \u001b[1m0s\u001b[0m 11ms/step - accuracy: 0.8801 - loss: 0.2676 - val_accuracy: 0.7973 - val_loss: 0.4851 - learning_rate: 5.0000e-04\n",
      "Epoch 16/200\n",
      "\u001b[1m14/14\u001b[0m \u001b[32m━━━━━━━━━━━━━━━━━━━━\u001b[0m\u001b[37m\u001b[0m \u001b[1m0s\u001b[0m 11ms/step - accuracy: 0.8849 - loss: 0.2660 - val_accuracy: 0.7973 - val_loss: 0.4812 - learning_rate: 5.0000e-04\n",
      "Epoch 17/200\n",
      "\u001b[1m14/14\u001b[0m \u001b[32m━━━━━━━━━━━━━━━━━━━━\u001b[0m\u001b[37m\u001b[0m \u001b[1m0s\u001b[0m 11ms/step - accuracy: 0.8897 - loss: 0.2651 - val_accuracy: 0.7973 - val_loss: 0.4815 - learning_rate: 5.0000e-04\n",
      "Epoch 18/200\n",
      "\u001b[1m14/14\u001b[0m \u001b[32m━━━━━━━━━━━━━━━━━━━━\u001b[0m\u001b[37m\u001b[0m \u001b[1m0s\u001b[0m 12ms/step - accuracy: 0.8873 - loss: 0.2644 - val_accuracy: 0.8108 - val_loss: 0.4800 - learning_rate: 5.0000e-04\n",
      "Epoch 19/200\n",
      "\u001b[1m14/14\u001b[0m \u001b[32m━━━━━━━━━━━━━━━━━━━━\u001b[0m\u001b[37m\u001b[0m \u001b[1m0s\u001b[0m 11ms/step - accuracy: 0.8873 - loss: 0.2647 - val_accuracy: 0.8108 - val_loss: 0.4781 - learning_rate: 5.0000e-04\n",
      "Epoch 20/200\n",
      "\u001b[1m14/14\u001b[0m \u001b[32m━━━━━━━━━━━━━━━━━━━━\u001b[0m\u001b[37m\u001b[0m \u001b[1m0s\u001b[0m 16ms/step - accuracy: 0.8873 - loss: 0.2647 - val_accuracy: 0.8108 - val_loss: 0.4824 - learning_rate: 2.5000e-04\n",
      "Epoch 21/200\n",
      "\u001b[1m14/14\u001b[0m \u001b[32m━━━━━━━━━━━━━━━━━━━━\u001b[0m\u001b[37m\u001b[0m \u001b[1m0s\u001b[0m 12ms/step - accuracy: 0.8897 - loss: 0.2628 - val_accuracy: 0.8108 - val_loss: 0.4834 - learning_rate: 2.5000e-04\n",
      "Epoch 22/200\n",
      "\u001b[1m14/14\u001b[0m \u001b[32m━━━━━━━━━━━━━━━━━━━━\u001b[0m\u001b[37m\u001b[0m \u001b[1m0s\u001b[0m 15ms/step - accuracy: 0.8873 - loss: 0.2626 - val_accuracy: 0.8108 - val_loss: 0.4851 - learning_rate: 2.5000e-04\n",
      "Epoch 23/200\n",
      "\u001b[1m14/14\u001b[0m \u001b[32m━━━━━━━━━━━━━━━━━━━━\u001b[0m\u001b[37m\u001b[0m \u001b[1m0s\u001b[0m 13ms/step - accuracy: 0.8873 - loss: 0.2623 - val_accuracy: 0.8108 - val_loss: 0.4844 - learning_rate: 2.5000e-04\n",
      "\u001b[1m4/4\u001b[0m \u001b[32m━━━━━━━━━━━━━━━━━━━━\u001b[0m\u001b[37m\u001b[0m \u001b[1m0s\u001b[0m 16ms/step - accuracy: 0.8455 - loss: 0.4743\n",
      "Test Loss:0.4743\n",
      "Test Accuracy:0.8455\n"
     ]
    }
   ],
   "source": [
    "#Import All The Libraries\n",
    "import pandas as pd\n",
    "import numpy as np\n",
    "import tensorflow as tf\n",
    "from tensorflow import keras\n",
    "from sklearn.preprocessing import StandardScaler\n",
    "from sklearn.model_selection import train_test_split\n",
    "from sklearn.metrics import accuracy_score\n",
    "\n",
    "#Import The Dataset\n",
    "df=pd.read_csv(\"loan_1.csv\")\n",
    "\n",
    "#Data Cleaning\n",
    "#1)\n",
    "df[\"Loan_Status\"]=df[\"Loan_Status\"].map({'Y':1,'N':0})\n",
    "df[\"Married\"]=df[\"Married\"].map({\"Yes\":1,\"No\":0})\n",
    "df[\"Self_Employed\"]=df[\"Self_Employed\"].map({\"Yes\":1,\"No\":0})\n",
    "df[\"Gender\"]=df[\"Gender\"].map({\"Male\":1,\"Female\":0})\n",
    "df[\"Education\"]=df[\"Education\"].map({\"Graduate\":1,\"Not Graduate\":0})\n",
    "df[\"Property_Area\"]=df[\"Property_Area\"].map({'Rural':0,'Semiurban':1,'Urban':2})\n",
    "df[\"Dependents\"]=df[\"Dependents\"].map({\"3+\":4})\n",
    "\n",
    "#2)\n",
    "df.drop('Loan_ID',axis=1,inplace=True)\n",
    "\n",
    "#3)\n",
    "def Mean_value(df,column):\n",
    "    mean_value=df[column].mean()\n",
    "    df.fillna({column:mean_value},inplace=True)\n",
    "def Mode_value(df,column):\n",
    "    mode_value=df[column].mode()[0]\n",
    "    df.fillna({column:mode_value},inplace=True)\n",
    "num_col=[col for col in df.columns if df[col].dtype==\"float64\"]\n",
    "odj_col=[col for col in df.columns if df[col].dtype==\"object\"]\n",
    "for col in odj_col:\n",
    "    Mode_value(df,col)\n",
    "for col in num_col:\n",
    "    Mean_value(df,col)\n",
    "\n",
    "#Data Preprocessing\n",
    "X=df.drop(\"Loan_Status\",axis=1)\n",
    "y=df[\"Loan_Status\"]\n",
    "scaler = StandardScaler()\n",
    "x=pd.DataFrame(scaler.fit_transform(X),columns=X.columns)\n",
    "\n",
    "#Train-Test-Split\n",
    "x_train,x_test,y_train,y_test=train_test_split(x,y,test_size=0.2,stratify=y,random_state=42)\n",
    "\n",
    "#Model Training\n",
    "model.compile(optimizer='adam', loss='binary_crossentropy', metrics=['accuracy'])\n",
    "callbacks = [\n",
    "    keras.callbacks.EarlyStopping(monitor='val_loss', patience=20, restore_best_weights=True),\n",
    "    keras.callbacks.ReduceLROnPlateau(monitor='val_loss', factor=0.5, patience=8, min_lr=1e-6)\n",
    "]\n",
    "history = model.fit(\n",
    "    x_train, y_train,\n",
    "    validation_split=0.15,   \n",
    "    batch_size=32,           \n",
    "    epochs=200,\n",
    "    callbacks=callbacks\n",
    ")\n",
    "#Model Accuracy\n",
    "loss,accuracy=model.evaluate(x_test,y_test)\n",
    "print(f\"Test Loss:{loss:.4f}\")\n",
    "print(f\"Test Accuracy:{accuracy:.4f}\")"
   ]
  },
  {
   "cell_type": "code",
   "execution_count": 21,
   "id": "b40d9187-7f55-4520-bb44-def3b87b5a6e",
   "metadata": {},
   "outputs": [
    {
     "data": {
      "text/plain": [
       "(614, 12)"
      ]
     },
     "execution_count": 21,
     "metadata": {},
     "output_type": "execute_result"
    }
   ],
   "source": [
    "df.shape"
   ]
  },
  {
   "cell_type": "code",
   "execution_count": null,
   "id": "d87aa527-af84-4b37-8a8e-7429850c2a75",
   "metadata": {},
   "outputs": [],
   "source": []
  }
 ],
 "metadata": {
  "kernelspec": {
   "display_name": "Python [conda env:base] *",
   "language": "python",
   "name": "conda-base-py"
  },
  "language_info": {
   "codemirror_mode": {
    "name": "ipython",
    "version": 3
   },
   "file_extension": ".py",
   "mimetype": "text/x-python",
   "name": "python",
   "nbconvert_exporter": "python",
   "pygments_lexer": "ipython3",
   "version": "3.12.7"
  }
 },
 "nbformat": 4,
 "nbformat_minor": 5
}
